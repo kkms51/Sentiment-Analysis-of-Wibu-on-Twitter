{
  "cells": [
    {
      "cell_type": "markdown",
      "metadata": {
        "id": "s7hEVZ_Vbklr"
      },
      "source": [
        "### 1. Twiter Scraping\n",
        "\n",
        "---\n",
        "\n"
      ]
    },
    {
      "cell_type": "code",
      "execution_count": null,
      "metadata": {
        "colab": {
          "base_uri": "https://localhost:8080/"
        },
        "id": "PUs4GHDhjidE",
        "outputId": "8cd042c9-34d9-4731-b451-8f6a13f7c837"
      },
      "outputs": [
        {
          "output_type": "stream",
          "name": "stdout",
          "text": [
            "Looking in indexes: https://pypi.org/simple, https://us-python.pkg.dev/colab-wheels/public/simple/\n",
            "Collecting snscrape\n",
            "  Downloading snscrape-0.4.3.20220106-py3-none-any.whl (59 kB)\n",
            "\u001b[2K     \u001b[90m━━━━━━━━━━━━━━━━━━━━━━━━━━━━━━━━━━━━━━━━\u001b[0m \u001b[32m59.1/59.1 KB\u001b[0m \u001b[31m2.5 MB/s\u001b[0m eta \u001b[36m0:00:00\u001b[0m\n",
            "\u001b[?25hRequirement already satisfied: requests[socks] in /usr/local/lib/python3.8/dist-packages (from snscrape) (2.25.1)\n",
            "Requirement already satisfied: beautifulsoup4 in /usr/local/lib/python3.8/dist-packages (from snscrape) (4.6.3)\n",
            "Requirement already satisfied: pytz in /usr/local/lib/python3.8/dist-packages (from snscrape) (2022.7)\n",
            "Requirement already satisfied: filelock in /usr/local/lib/python3.8/dist-packages (from snscrape) (3.8.2)\n",
            "Requirement already satisfied: lxml in /usr/local/lib/python3.8/dist-packages (from snscrape) (4.9.2)\n",
            "Requirement already satisfied: certifi>=2017.4.17 in /usr/local/lib/python3.8/dist-packages (from requests[socks]->snscrape) (2022.12.7)\n",
            "Requirement already satisfied: idna<3,>=2.5 in /usr/local/lib/python3.8/dist-packages (from requests[socks]->snscrape) (2.10)\n",
            "Requirement already satisfied: chardet<5,>=3.0.2 in /usr/local/lib/python3.8/dist-packages (from requests[socks]->snscrape) (4.0.0)\n",
            "Requirement already satisfied: urllib3<1.27,>=1.21.1 in /usr/local/lib/python3.8/dist-packages (from requests[socks]->snscrape) (1.24.3)\n",
            "Requirement already satisfied: PySocks!=1.5.7,>=1.5.6 in /usr/local/lib/python3.8/dist-packages (from requests[socks]->snscrape) (1.7.1)\n",
            "Installing collected packages: snscrape\n",
            "Successfully installed snscrape-0.4.3.20220106\n"
          ]
        }
      ],
      "source": [
        "pip install snscrape"
      ]
    },
    {
      "cell_type": "code",
      "execution_count": null,
      "metadata": {
        "id": "_ZKxOO8yPTwB"
      },
      "outputs": [],
      "source": [
        "import snscrape.modules.twitter as sntwitter\n",
        "import pandas as pd"
      ]
    },
    {
      "cell_type": "code",
      "execution_count": null,
      "metadata": {
        "colab": {
          "base_uri": "https://localhost:8080/"
        },
        "id": "2lyO3qkdjpRD",
        "outputId": "aae48b8c-952f-415e-da38-bbd127cc014f"
      },
      "outputs": [
        {
          "output_type": "stream",
          "name": "stderr",
          "text": [
            "<ipython-input-4-af63d08f9c64>:11: FutureWarning: username is deprecated, use user.username instead\n",
            "  tweets_list2.append([tweet.date, tweet.id, tweet.content, tweet.username, tweet.likeCount])\n",
            "<ipython-input-4-af63d08f9c64>:15: FutureWarning: username is deprecated, use user.username instead\n",
            "  tweets_list2.append([tweet.date, tweet.id, tweet.content, tweet.username, tweet.likeCount])\n",
            "<ipython-input-4-af63d08f9c64>:19: FutureWarning: username is deprecated, use user.username instead\n",
            "  tweets_list2.append([tweet.date, tweet.id, tweet.content, tweet.username, tweet.likeCount])\n",
            "<ipython-input-4-af63d08f9c64>:23: FutureWarning: username is deprecated, use user.username instead\n",
            "  tweets_list2.append([tweet.date, tweet.id, tweet.content, tweet.username, tweet.likeCount])\n",
            "<ipython-input-4-af63d08f9c64>:27: FutureWarning: username is deprecated, use user.username instead\n",
            "  tweets_list2.append([tweet.date, tweet.id, tweet.content, tweet.username, tweet.likeCount])\n",
            "<ipython-input-4-af63d08f9c64>:31: FutureWarning: username is deprecated, use user.username instead\n",
            "  tweets_list2.append([tweet.date, tweet.id, tweet.content, tweet.username, tweet.likeCount])\n"
          ]
        }
      ],
      "source": [
        "# Setting variables to be used below\n",
        "maxTweets = 5000\n",
        "\n",
        "# Creating list to append tweet data to\n",
        "tweets_list2 = []\n",
        "\n",
        "# Using TwitterSearchScraper to scrape data and append tweets to list\n",
        "for i,tweet in enumerate(sntwitter.TwitterSearchScraper('wibu lang:id since:2019-12-28 until:2022-12-28').get_items()):\n",
        "    if i>maxTweets:\n",
        "        break\n",
        "    tweets_list2.append([tweet.date, tweet.id, tweet.content, tweet.username, tweet.likeCount])\n",
        "for i,tweet in enumerate(sntwitter.TwitterSearchScraper('pandangan wibu lang:id since:2019-12-28 until:2022-12-28').get_items()):\n",
        "    if i>maxTweets:\n",
        "        break\n",
        "    tweets_list2.append([tweet.date, tweet.id, tweet.content, tweet.username, tweet.likeCount])\n",
        "for i,tweet in enumerate(sntwitter.TwitterSearchScraper('jejepangan lang:id since:2019-12-28 until:2022-12-28').get_items()):\n",
        "    if i>maxTweets:\n",
        "        break\n",
        "    tweets_list2.append([tweet.date, tweet.id, tweet.content, tweet.username, tweet.likeCount])\n",
        "for i,tweet in enumerate(sntwitter.TwitterSearchScraper('wibu ansos lang:id since:2019-12-28 until:2022-12-28').get_items()):\n",
        "    if i>maxTweets:\n",
        "        break\n",
        "    tweets_list2.append([tweet.date, tweet.id, tweet.content, tweet.username, tweet.likeCount])\n",
        "for i,tweet in enumerate(sntwitter.TwitterSearchScraper('wibu anime lang:id since:2019-12-28 until:2022-12-28').get_items()):\n",
        "    if i>maxTweets:\n",
        "        break\n",
        "    tweets_list2.append([tweet.date, tweet.id, tweet.content, tweet.username, tweet.likeCount])\n",
        "for i,tweet in enumerate(sntwitter.TwitterSearchScraper('anime lang:id since:2019-12-28 until:2022-12-28').get_items()):\n",
        "    if i>maxTweets:\n",
        "        break\n",
        "    tweets_list2.append([tweet.date, tweet.id, tweet.content, tweet.username, tweet.likeCount])"
      ]
    },
    {
      "cell_type": "code",
      "execution_count": null,
      "metadata": {
        "id": "VIp8elLwQibN"
      },
      "outputs": [],
      "source": [
        "# Creating a dataframe from the tweets list above\n",
        "tweets_df2 = pd.DataFrame(tweets_list2, columns=['Datetime', 'Tweet Id', 'Text', 'Username', 'Like'])"
      ]
    },
    {
      "cell_type": "code",
      "execution_count": null,
      "metadata": {
        "id": "sMduBL1LQQks"
      },
      "outputs": [],
      "source": [
        "tweets_df2.to_csv(\"wibu.csv\", index = False)"
      ]
    },
    {
      "cell_type": "code",
      "execution_count": null,
      "metadata": {
        "colab": {
          "base_uri": "https://localhost:8080/",
          "height": 424
        },
        "id": "8xmLCDq7QnI6",
        "outputId": "e5854825-f529-4596-9504-69e9bfa9682a"
      },
      "outputs": [
        {
          "output_type": "execute_result",
          "data": {
            "text/plain": [
              "                        Datetime             Tweet Id  \\\n",
              "0      2022-12-27 23:59:45+00:00  1607889002040000512   \n",
              "1      2022-12-27 23:59:26+00:00  1607888920116879362   \n",
              "2      2022-12-27 23:59:02+00:00  1607888821429100546   \n",
              "3      2022-12-27 23:50:19+00:00  1607886627111854080   \n",
              "4      2022-12-27 23:49:39+00:00  1607886458165293057   \n",
              "...                          ...                  ...   \n",
              "21081  2022-12-26 13:39:55+00:00  1607370627094310916   \n",
              "21082  2022-12-26 13:39:53+00:00  1607370616797270018   \n",
              "21083  2022-12-26 13:39:50+00:00  1607370604927422469   \n",
              "21084  2022-12-26 13:39:29+00:00  1607370515492274179   \n",
              "21085  2022-12-26 13:39:06+00:00  1607370422391300099   \n",
              "\n",
              "                                                    Text         Username  \\\n",
              "0             wibu sekali ya pak https://t.co/pZf5bXtJXG           kjkpdf   \n",
              "1      @bayu_joo bismillah cowo wibu https://t.co/w8E...  killingthesides   \n",
              "2      Plis gua nyari au yang anak haikyuu jadi bocil...         epiidesu   \n",
              "3      Dan yang lo harus tau gw sayang banget sama lo...       SlayerWibu   \n",
              "4                          @schfess oh iya, wibu semua 😮          ai555hi   \n",
              "...                                                  ...              ...   \n",
              "21081  @sato_yyantto Anime lama, judulnya Cardcaptor ...   yukarikanagawa   \n",
              "21082  @cursedkidd Ide yg menarique kids. Saatnya kem...        hybe_girl   \n",
              "21083  Making a circle list is so mendokusai ya,, tap...         aku_unko   \n",
              "21084  @matchachocociz Iya yaa, kayaknya lebih cocoka...    tsukkitsukkii   \n",
              "21085  wkwk lucu bgt adek gw nobar anime di gmeet gt ...        selowdive   \n",
              "\n",
              "       Like  \n",
              "0         0  \n",
              "1         0  \n",
              "2         0  \n",
              "3         0  \n",
              "4         0  \n",
              "...     ...  \n",
              "21081     1  \n",
              "21082     0  \n",
              "21083     0  \n",
              "21084     0  \n",
              "21085     0  \n",
              "\n",
              "[21086 rows x 5 columns]"
            ],
            "text/html": [
              "\n",
              "  <div id=\"df-07199d40-e38d-4953-a7ec-f1fa71751f8f\">\n",
              "    <div class=\"colab-df-container\">\n",
              "      <div>\n",
              "<style scoped>\n",
              "    .dataframe tbody tr th:only-of-type {\n",
              "        vertical-align: middle;\n",
              "    }\n",
              "\n",
              "    .dataframe tbody tr th {\n",
              "        vertical-align: top;\n",
              "    }\n",
              "\n",
              "    .dataframe thead th {\n",
              "        text-align: right;\n",
              "    }\n",
              "</style>\n",
              "<table border=\"1\" class=\"dataframe\">\n",
              "  <thead>\n",
              "    <tr style=\"text-align: right;\">\n",
              "      <th></th>\n",
              "      <th>Datetime</th>\n",
              "      <th>Tweet Id</th>\n",
              "      <th>Text</th>\n",
              "      <th>Username</th>\n",
              "      <th>Like</th>\n",
              "    </tr>\n",
              "  </thead>\n",
              "  <tbody>\n",
              "    <tr>\n",
              "      <th>0</th>\n",
              "      <td>2022-12-27 23:59:45+00:00</td>\n",
              "      <td>1607889002040000512</td>\n",
              "      <td>wibu sekali ya pak https://t.co/pZf5bXtJXG</td>\n",
              "      <td>kjkpdf</td>\n",
              "      <td>0</td>\n",
              "    </tr>\n",
              "    <tr>\n",
              "      <th>1</th>\n",
              "      <td>2022-12-27 23:59:26+00:00</td>\n",
              "      <td>1607888920116879362</td>\n",
              "      <td>@bayu_joo bismillah cowo wibu https://t.co/w8E...</td>\n",
              "      <td>killingthesides</td>\n",
              "      <td>0</td>\n",
              "    </tr>\n",
              "    <tr>\n",
              "      <th>2</th>\n",
              "      <td>2022-12-27 23:59:02+00:00</td>\n",
              "      <td>1607888821429100546</td>\n",
              "      <td>Plis gua nyari au yang anak haikyuu jadi bocil...</td>\n",
              "      <td>epiidesu</td>\n",
              "      <td>0</td>\n",
              "    </tr>\n",
              "    <tr>\n",
              "      <th>3</th>\n",
              "      <td>2022-12-27 23:50:19+00:00</td>\n",
              "      <td>1607886627111854080</td>\n",
              "      <td>Dan yang lo harus tau gw sayang banget sama lo...</td>\n",
              "      <td>SlayerWibu</td>\n",
              "      <td>0</td>\n",
              "    </tr>\n",
              "    <tr>\n",
              "      <th>4</th>\n",
              "      <td>2022-12-27 23:49:39+00:00</td>\n",
              "      <td>1607886458165293057</td>\n",
              "      <td>@schfess oh iya, wibu semua 😮</td>\n",
              "      <td>ai555hi</td>\n",
              "      <td>0</td>\n",
              "    </tr>\n",
              "    <tr>\n",
              "      <th>...</th>\n",
              "      <td>...</td>\n",
              "      <td>...</td>\n",
              "      <td>...</td>\n",
              "      <td>...</td>\n",
              "      <td>...</td>\n",
              "    </tr>\n",
              "    <tr>\n",
              "      <th>21081</th>\n",
              "      <td>2022-12-26 13:39:55+00:00</td>\n",
              "      <td>1607370627094310916</td>\n",
              "      <td>@sato_yyantto Anime lama, judulnya Cardcaptor ...</td>\n",
              "      <td>yukarikanagawa</td>\n",
              "      <td>1</td>\n",
              "    </tr>\n",
              "    <tr>\n",
              "      <th>21082</th>\n",
              "      <td>2022-12-26 13:39:53+00:00</td>\n",
              "      <td>1607370616797270018</td>\n",
              "      <td>@cursedkidd Ide yg menarique kids. Saatnya kem...</td>\n",
              "      <td>hybe_girl</td>\n",
              "      <td>0</td>\n",
              "    </tr>\n",
              "    <tr>\n",
              "      <th>21083</th>\n",
              "      <td>2022-12-26 13:39:50+00:00</td>\n",
              "      <td>1607370604927422469</td>\n",
              "      <td>Making a circle list is so mendokusai ya,, tap...</td>\n",
              "      <td>aku_unko</td>\n",
              "      <td>0</td>\n",
              "    </tr>\n",
              "    <tr>\n",
              "      <th>21084</th>\n",
              "      <td>2022-12-26 13:39:29+00:00</td>\n",
              "      <td>1607370515492274179</td>\n",
              "      <td>@matchachocociz Iya yaa, kayaknya lebih cocoka...</td>\n",
              "      <td>tsukkitsukkii</td>\n",
              "      <td>0</td>\n",
              "    </tr>\n",
              "    <tr>\n",
              "      <th>21085</th>\n",
              "      <td>2022-12-26 13:39:06+00:00</td>\n",
              "      <td>1607370422391300099</td>\n",
              "      <td>wkwk lucu bgt adek gw nobar anime di gmeet gt ...</td>\n",
              "      <td>selowdive</td>\n",
              "      <td>0</td>\n",
              "    </tr>\n",
              "  </tbody>\n",
              "</table>\n",
              "<p>21086 rows × 5 columns</p>\n",
              "</div>\n",
              "      <button class=\"colab-df-convert\" onclick=\"convertToInteractive('df-07199d40-e38d-4953-a7ec-f1fa71751f8f')\"\n",
              "              title=\"Convert this dataframe to an interactive table.\"\n",
              "              style=\"display:none;\">\n",
              "        \n",
              "  <svg xmlns=\"http://www.w3.org/2000/svg\" height=\"24px\"viewBox=\"0 0 24 24\"\n",
              "       width=\"24px\">\n",
              "    <path d=\"M0 0h24v24H0V0z\" fill=\"none\"/>\n",
              "    <path d=\"M18.56 5.44l.94 2.06.94-2.06 2.06-.94-2.06-.94-.94-2.06-.94 2.06-2.06.94zm-11 1L8.5 8.5l.94-2.06 2.06-.94-2.06-.94L8.5 2.5l-.94 2.06-2.06.94zm10 10l.94 2.06.94-2.06 2.06-.94-2.06-.94-.94-2.06-.94 2.06-2.06.94z\"/><path d=\"M17.41 7.96l-1.37-1.37c-.4-.4-.92-.59-1.43-.59-.52 0-1.04.2-1.43.59L10.3 9.45l-7.72 7.72c-.78.78-.78 2.05 0 2.83L4 21.41c.39.39.9.59 1.41.59.51 0 1.02-.2 1.41-.59l7.78-7.78 2.81-2.81c.8-.78.8-2.07 0-2.86zM5.41 20L4 18.59l7.72-7.72 1.47 1.35L5.41 20z\"/>\n",
              "  </svg>\n",
              "      </button>\n",
              "      \n",
              "  <style>\n",
              "    .colab-df-container {\n",
              "      display:flex;\n",
              "      flex-wrap:wrap;\n",
              "      gap: 12px;\n",
              "    }\n",
              "\n",
              "    .colab-df-convert {\n",
              "      background-color: #E8F0FE;\n",
              "      border: none;\n",
              "      border-radius: 50%;\n",
              "      cursor: pointer;\n",
              "      display: none;\n",
              "      fill: #1967D2;\n",
              "      height: 32px;\n",
              "      padding: 0 0 0 0;\n",
              "      width: 32px;\n",
              "    }\n",
              "\n",
              "    .colab-df-convert:hover {\n",
              "      background-color: #E2EBFA;\n",
              "      box-shadow: 0px 1px 2px rgba(60, 64, 67, 0.3), 0px 1px 3px 1px rgba(60, 64, 67, 0.15);\n",
              "      fill: #174EA6;\n",
              "    }\n",
              "\n",
              "    [theme=dark] .colab-df-convert {\n",
              "      background-color: #3B4455;\n",
              "      fill: #D2E3FC;\n",
              "    }\n",
              "\n",
              "    [theme=dark] .colab-df-convert:hover {\n",
              "      background-color: #434B5C;\n",
              "      box-shadow: 0px 1px 3px 1px rgba(0, 0, 0, 0.15);\n",
              "      filter: drop-shadow(0px 1px 2px rgba(0, 0, 0, 0.3));\n",
              "      fill: #FFFFFF;\n",
              "    }\n",
              "  </style>\n",
              "\n",
              "      <script>\n",
              "        const buttonEl =\n",
              "          document.querySelector('#df-07199d40-e38d-4953-a7ec-f1fa71751f8f button.colab-df-convert');\n",
              "        buttonEl.style.display =\n",
              "          google.colab.kernel.accessAllowed ? 'block' : 'none';\n",
              "\n",
              "        async function convertToInteractive(key) {\n",
              "          const element = document.querySelector('#df-07199d40-e38d-4953-a7ec-f1fa71751f8f');\n",
              "          const dataTable =\n",
              "            await google.colab.kernel.invokeFunction('convertToInteractive',\n",
              "                                                     [key], {});\n",
              "          if (!dataTable) return;\n",
              "\n",
              "          const docLinkHtml = 'Like what you see? Visit the ' +\n",
              "            '<a target=\"_blank\" href=https://colab.research.google.com/notebooks/data_table.ipynb>data table notebook</a>'\n",
              "            + ' to learn more about interactive tables.';\n",
              "          element.innerHTML = '';\n",
              "          dataTable['output_type'] = 'display_data';\n",
              "          await google.colab.output.renderOutput(dataTable, element);\n",
              "          const docLink = document.createElement('div');\n",
              "          docLink.innerHTML = docLinkHtml;\n",
              "          element.appendChild(docLink);\n",
              "        }\n",
              "      </script>\n",
              "    </div>\n",
              "  </div>\n",
              "  "
            ]
          },
          "metadata": {},
          "execution_count": 7
        }
      ],
      "source": [
        "df=pd.read_csv(\"wibu.csv\")\n",
        "df"
      ]
    },
    {
      "cell_type": "code",
      "execution_count": null,
      "metadata": {
        "colab": {
          "base_uri": "https://localhost:8080/"
        },
        "id": "iMEzHlbGQ_24",
        "outputId": "ff7a4b41-f9da-422c-a535-13d2831e7688"
      },
      "outputs": [
        {
          "output_type": "execute_result",
          "data": {
            "text/plain": [
              "Datetime    21086\n",
              "Tweet Id    21086\n",
              "Text        21086\n",
              "Username    21086\n",
              "Like        21086\n",
              "dtype: int64"
            ]
          },
          "metadata": {},
          "execution_count": 8
        }
      ],
      "source": [
        "df.count()"
      ]
    },
    {
      "cell_type": "code",
      "execution_count": null,
      "metadata": {
        "id": "H0vPvxqyRscQ",
        "colab": {
          "base_uri": "https://localhost:8080/"
        },
        "outputId": "3c57ede6-a971-4f27-dd7a-1a8845dadde2"
      },
      "outputs": [
        {
          "output_type": "execute_result",
          "data": {
            "text/plain": [
              "Datetime    20718\n",
              "Tweet Id    20718\n",
              "Text        20718\n",
              "Username    20718\n",
              "Like        20718\n",
              "dtype: int64"
            ]
          },
          "metadata": {},
          "execution_count": 11
        }
      ],
      "source": [
        "df=df.drop_duplicates()\n",
        "df.count()"
      ]
    }
  ],
  "metadata": {
    "colab": {
      "provenance": []
    },
    "kernelspec": {
      "display_name": "Python 3",
      "name": "python3"
    },
    "language_info": {
      "name": "python"
    }
  },
  "nbformat": 4,
  "nbformat_minor": 0
}